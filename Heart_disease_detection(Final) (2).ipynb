{
  "nbformat": 4,
  "nbformat_minor": 0,
  "metadata": {
    "colab": {
      "name": "Heart_disease_detection(Final).ipynb",
      "provenance": [],
      "collapsed_sections": []
    },
    "kernelspec": {
      "name": "python3",
      "display_name": "Python 3"
    }
  },
  "cells": [
    {
      "cell_type": "code",
      "metadata": {
        "id": "t6HlNTq_ncwf"
      },
      "source": [
        "#Declaring some variables...\n",
        "unit_layer_1=20\n",
        "unit_layer_2=10\n",
        "unit_layer_3=15\n",
        "unit_layer_output=1\n",
        "input_dimension=13\n",
        "layer_1_activation='relu'\n",
        "layer_2_activation='relu'\n",
        "layer_3_activation='relu'\n",
        "layer_4_activation='sigmoid'\n",
        "batch_sizee=11\n",
        "epochs_no=500\n",
        "lamda=0.00002"
      ],
      "execution_count": 1,
      "outputs": []
    },
    {
      "cell_type": "code",
      "metadata": {
        "id": "9-uHmQueLMkC",
        "colab": {
          "base_uri": "https://localhost:8080/"
        },
        "outputId": "2d85432f-f38c-4115-ec05-b1c3250a8868"
      },
      "source": [
        "!pip install pyyaml h5py  # Required to save models in HDF5 format"
      ],
      "execution_count": 2,
      "outputs": [
        {
          "output_type": "stream",
          "text": [
            "Requirement already satisfied: pyyaml in /usr/local/lib/python3.6/dist-packages (3.13)\n",
            "Requirement already satisfied: h5py in /usr/local/lib/python3.6/dist-packages (2.10.0)\n",
            "Requirement already satisfied: numpy>=1.7 in /usr/local/lib/python3.6/dist-packages (from h5py) (1.19.4)\n",
            "Requirement already satisfied: six in /usr/local/lib/python3.6/dist-packages (from h5py) (1.15.0)\n"
          ],
          "name": "stdout"
        }
      ]
    },
    {
      "cell_type": "code",
      "metadata": {
        "id": "xL9hUBPALfGj"
      },
      "source": [
        "#Importing all important models and libraries......\n",
        "import tensorflow as tf\n",
        "import numpy as np\n",
        "import pandas as pd\n",
        "import seaborn as sns\n",
        "import io\n",
        "import matplotlib.pyplot as plt\n",
        "import h5py\n",
        "import seaborn as sn\n",
        "from keras.callbacks import EarlyStopping\n",
        "from keras.callbacks import ModelCheckpoint\n",
        "from tensorflow.keras.models import Sequential\n",
        "from tensorflow.keras.layers import Dense, Activation\n",
        "from tensorflow.keras.optimizers import Adam\n",
        "from sklearn.metrics import plot_confusion_matrix\n",
        "from google.colab import files\n",
        "from sklearn.metrics import confusion_matrix\n",
        "from sklearn.metrics import accuracy_score\n",
        "from sklearn.metrics import precision_score\n",
        "from sklearn.metrics import recall_score\n",
        "from sklearn.metrics import f1_score\n",
        "from sklearn.metrics import cohen_kappa_score\n",
        "from sklearn.metrics import roc_auc_score\n",
        "from sklearn import metrics\n",
        "from keras import regularizers\n",
        "from keras.layers import Dropout\n",
        "from sklearn.metrics import classification_report\n",
        "from sklearn.model_selection import train_test_split"
      ],
      "execution_count": 23,
      "outputs": []
    },
    {
      "cell_type": "code",
      "metadata": {
        "id": "sXRuYcIKLvz5",
        "colab": {
          "resources": {
            "http://localhost:8080/nbextensions/google.colab/files.js": {
              "data": "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",
              "ok": true,
              "headers": [
                [
                  "content-type",
                  "application/javascript"
                ]
              ],
              "status": 200,
              "status_text": ""
            }
          },
          "base_uri": "https://localhost:8080/",
          "height": 72
        },
        "outputId": "b463f300-0bb0-4a89-b7cb-e48029e13419"
      },
      "source": [
        "#Uploading Dataset....\n",
        "uploaded = files.upload()\n",
        "df = pd.read_csv(io.BytesIO(uploaded['heart.csv']))\n"
      ],
      "execution_count": 4,
      "outputs": [
        {
          "output_type": "display_data",
          "data": {
            "text/html": [
              "\n",
              "     <input type=\"file\" id=\"files-a98153b2-fd8c-476d-a114-29339b17a976\" name=\"files[]\" multiple disabled\n",
              "        style=\"border:none\" />\n",
              "     <output id=\"result-a98153b2-fd8c-476d-a114-29339b17a976\">\n",
              "      Upload widget is only available when the cell has been executed in the\n",
              "      current browser session. Please rerun this cell to enable.\n",
              "      </output>\n",
              "      <script src=\"/nbextensions/google.colab/files.js\"></script> "
            ],
            "text/plain": [
              "<IPython.core.display.HTML object>"
            ]
          },
          "metadata": {
            "tags": []
          }
        },
        {
          "output_type": "stream",
          "text": [
            "Saving heart.csv to heart.csv\n"
          ],
          "name": "stdout"
        }
      ]
    },
    {
      "cell_type": "code",
      "metadata": {
        "id": "_1TkKvISMmOh",
        "colab": {
          "base_uri": "https://localhost:8080/",
          "height": 896
        },
        "outputId": "53c477ee-11c1-4275-c0c7-79886e435886"
      },
      "source": [
        "#Dataset description....\n",
        "#1.age\n",
        "#2.sex\n",
        "#3.chest pain type (4 values)\n",
        "#4.resting blood pressure\n",
        "#5.serum cholestoral in mg/dl\n",
        "#6.fasting blood sugar > 120 mg/dl\n",
        "#7.resting electrocardiographic results (values 0,1,2)\n",
        "#8.maximum heart rate achieved\n",
        "#9.exercise induced angina\n",
        "#10.oldpeak = ST depression induced by exercise relative to rest\n",
        "#11.the slope of the peak exercise ST segment\n",
        "#12.number of major vessels (0-3) colored by flourosopy\n",
        "#13.thal: 3 = normal; 6 = fixed defect; 7 = reversable defect\n",
        "#14.target - is the binary target variable, 0 indicates that the patient has heart disease, the value is 1 if not.\n",
        "\n",
        "\n",
        "\n",
        "# plot histograms for each variable\n",
        "df.hist(figsize = (15, 15))\n",
        "plt.show()\n",
        "print(\" \")\n",
        "\n"
      ],
      "execution_count": 5,
      "outputs": [
        {
          "output_type": "display_data",
          "data": {
            "image/png": "[encoded data removed]",
            "text/plain": [
              "<Figure size 1080x1080 with 16 Axes>"
            ]
          },
          "metadata": {
            "tags": [],
            "needs_background": "light"
          }
        },
        {
          "output_type": "stream",
          "text": [
            " \n"
          ],
          "name": "stdout"
        }
      ]
    },
    {
      "cell_type": "code",
      "metadata": {
        "id": "ayPXcZxYadSU",
        "colab": {
          "base_uri": "https://localhost:8080/",
          "height": 419
        },
        "outputId": "f51f06b4-f94e-4882-efa5-ef08d13f99d9"
      },
      "source": [
        "#Preview of dataset...\n",
        "df.loc[:]"
      ],
      "execution_count": 6,
      "outputs": [
        {
          "output_type": "execute_result",
          "data": {
            "text/html": [
              "<div>\n",
              "<style scoped>\n",
              "    .dataframe tbody tr th:only-of-type {\n",
              "        vertical-align: middle;\n",
              "    }\n",
              "\n",
              "    .dataframe tbody tr th {\n",
              "        vertical-align: top;\n",
              "    }\n",
              "\n",
              "    .dataframe thead th {\n",
              "        text-align: right;\n",
              "    }\n",
              "</style>\n",
              "<table border=\"1\" class=\"dataframe\">\n",
              "  <thead>\n",
              "    <tr style=\"text-align: right;\">\n",
              "      <th></th>\n",
              "      <th>age</th>\n",
              "      <th>sex</th>\n",
              "      <th>cp</th>\n",
              "      <th>trestbps</th>\n",
              "      <th>chol</th>\n",
              "      <th>fbs</th>\n",
              "      <th>restecg</th>\n",
              "      <th>thalach</th>\n",
              "      <th>exang</th>\n",
              "      <th>oldpeak</th>\n",
              "      <th>slope</th>\n",
              "      <th>ca</th>\n",
              "      <th>thal</th>\n",
              "      <th>target</th>\n",
              "    </tr>\n",
              "  </thead>\n",
              "  <tbody>\n",
              "    <tr>\n",
              "      <th>0</th>\n",
              "      <td>63</td>\n",
              "      <td>1</td>\n",
              "      <td>3</td>\n",
              "      <td>145</td>\n",
              "      <td>233</td>\n",
              "      <td>1</td>\n",
              "      <td>0</td>\n",
              "      <td>150</td>\n",
              "      <td>0</td>\n",
              "      <td>2.3</td>\n",
              "      <td>0</td>\n",
              "      <td>0</td>\n",
              "      <td>1</td>\n",
              "      <td>1</td>\n",
              "    </tr>\n",
              "    <tr>\n",
              "      <th>1</th>\n",
              "      <td>37</td>\n",
              "      <td>1</td>\n",
              "      <td>2</td>\n",
              "      <td>130</td>\n",
              "      <td>250</td>\n",
              "      <td>0</td>\n",
              "      <td>1</td>\n",
              "      <td>187</td>\n",
              "      <td>0</td>\n",
              "      <td>3.5</td>\n",
              "      <td>0</td>\n",
              "      <td>0</td>\n",
              "      <td>2</td>\n",
              "      <td>1</td>\n",
              "    </tr>\n",
              "    <tr>\n",
              "      <th>2</th>\n",
              "      <td>41</td>\n",
              "      <td>0</td>\n",
              "      <td>1</td>\n",
              "      <td>130</td>\n",
              "      <td>204</td>\n",
              "      <td>0</td>\n",
              "      <td>0</td>\n",
              "      <td>172</td>\n",
              "      <td>0</td>\n",
              "      <td>1.4</td>\n",
              "      <td>2</td>\n",
              "      <td>0</td>\n",
              "      <td>2</td>\n",
              "      <td>1</td>\n",
              "    </tr>\n",
              "    <tr>\n",
              "      <th>3</th>\n",
              "      <td>56</td>\n",
              "      <td>1</td>\n",
              "      <td>1</td>\n",
              "      <td>120</td>\n",
              "      <td>236</td>\n",
              "      <td>0</td>\n",
              "      <td>1</td>\n",
              "      <td>178</td>\n",
              "      <td>0</td>\n",
              "      <td>0.8</td>\n",
              "      <td>2</td>\n",
              "      <td>0</td>\n",
              "      <td>2</td>\n",
              "      <td>1</td>\n",
              "    </tr>\n",
              "    <tr>\n",
              "      <th>4</th>\n",
              "      <td>57</td>\n",
              "      <td>0</td>\n",
              "      <td>0</td>\n",
              "      <td>120</td>\n",
              "      <td>354</td>\n",
              "      <td>0</td>\n",
              "      <td>1</td>\n",
              "      <td>163</td>\n",
              "      <td>1</td>\n",
              "      <td>0.6</td>\n",
              "      <td>2</td>\n",
              "      <td>0</td>\n",
              "      <td>2</td>\n",
              "      <td>1</td>\n",
              "    </tr>\n",
              "    <tr>\n",
              "      <th>...</th>\n",
              "      <td>...</td>\n",
              "      <td>...</td>\n",
              "      <td>...</td>\n",
              "      <td>...</td>\n",
              "      <td>...</td>\n",
              "      <td>...</td>\n",
              "      <td>...</td>\n",
              "      <td>...</td>\n",
              "      <td>...</td>\n",
              "      <td>...</td>\n",
              "      <td>...</td>\n",
              "      <td>...</td>\n",
              "      <td>...</td>\n",
              "      <td>...</td>\n",
              "    </tr>\n",
              "    <tr>\n",
              "      <th>298</th>\n",
              "      <td>57</td>\n",
              "      <td>0</td>\n",
              "      <td>0</td>\n",
              "      <td>140</td>\n",
              "      <td>241</td>\n",
              "      <td>0</td>\n",
              "      <td>1</td>\n",
              "      <td>123</td>\n",
              "      <td>1</td>\n",
              "      <td>0.2</td>\n",
              "      <td>1</td>\n",
              "      <td>0</td>\n",
              "      <td>3</td>\n",
              "      <td>0</td>\n",
              "    </tr>\n",
              "    <tr>\n",
              "      <th>299</th>\n",
              "      <td>45</td>\n",
              "      <td>1</td>\n",
              "      <td>3</td>\n",
              "      <td>110</td>\n",
              "      <td>264</td>\n",
              "      <td>0</td>\n",
              "      <td>1</td>\n",
              "      <td>132</td>\n",
              "      <td>0</td>\n",
              "      <td>1.2</td>\n",
              "      <td>1</td>\n",
              "      <td>0</td>\n",
              "      <td>3</td>\n",
              "      <td>0</td>\n",
              "    </tr>\n",
              "    <tr>\n",
              "      <th>300</th>\n",
              "      <td>68</td>\n",
              "      <td>1</td>\n",
              "      <td>0</td>\n",
              "      <td>144</td>\n",
              "      <td>193</td>\n",
              "      <td>1</td>\n",
              "      <td>1</td>\n",
              "      <td>141</td>\n",
              "      <td>0</td>\n",
              "      <td>3.4</td>\n",
              "      <td>1</td>\n",
              "      <td>2</td>\n",
              "      <td>3</td>\n",
              "      <td>0</td>\n",
              "    </tr>\n",
              "    <tr>\n",
              "      <th>301</th>\n",
              "      <td>57</td>\n",
              "      <td>1</td>\n",
              "      <td>0</td>\n",
              "      <td>130</td>\n",
              "      <td>131</td>\n",
              "      <td>0</td>\n",
              "      <td>1</td>\n",
              "      <td>115</td>\n",
              "      <td>1</td>\n",
              "      <td>1.2</td>\n",
              "      <td>1</td>\n",
              "      <td>1</td>\n",
              "      <td>3</td>\n",
              "      <td>0</td>\n",
              "    </tr>\n",
              "    <tr>\n",
              "      <th>302</th>\n",
              "      <td>57</td>\n",
              "      <td>0</td>\n",
              "      <td>1</td>\n",
              "      <td>130</td>\n",
              "      <td>236</td>\n",
              "      <td>0</td>\n",
              "      <td>0</td>\n",
              "      <td>174</td>\n",
              "      <td>0</td>\n",
              "      <td>0.0</td>\n",
              "      <td>1</td>\n",
              "      <td>1</td>\n",
              "      <td>2</td>\n",
              "      <td>0</td>\n",
              "    </tr>\n",
              "  </tbody>\n",
              "</table>\n",
              "<p>303 rows × 14 columns</p>\n",
              "</div>"
            ],
            "text/plain": [
              "     age  sex  cp  trestbps  chol  fbs  ...  exang  oldpeak  slope  ca  thal  target\n",
              "0     63    1   3       145   233    1  ...      0      2.3      0   0     1       1\n",
              "1     37    1   2       130   250    0  ...      0      3.5      0   0     2       1\n",
              "2     41    0   1       130   204    0  ...      0      1.4      2   0     2       1\n",
              "3     56    1   1       120   236    0  ...      0      0.8      2   0     2       1\n",
              "4     57    0   0       120   354    0  ...      1      0.6      2   0     2       1\n",
              "..   ...  ...  ..       ...   ...  ...  ...    ...      ...    ...  ..   ...     ...\n",
              "298   57    0   0       140   241    0  ...      1      0.2      1   0     3       0\n",
              "299   45    1   3       110   264    0  ...      0      1.2      1   0     3       0\n",
              "300   68    1   0       144   193    1  ...      0      3.4      1   2     3       0\n",
              "301   57    1   0       130   131    0  ...      1      1.2      1   1     3       0\n",
              "302   57    0   1       130   236    0  ...      0      0.0      1   1     2       0\n",
              "\n",
              "[303 rows x 14 columns]"
            ]
          },
          "metadata": {
            "tags": []
          },
          "execution_count": 6
        }
      ]
    },
    {
      "cell_type": "code",
      "metadata": {
        "id": "JDvZw98lMmpi"
      },
      "source": [
        "#Defining features(X) and labels(Y)....\n",
        "X = df.drop('target',axis =1).values\n",
        "y = df['target'].values\n",
        "\n",
        "#Train and test data set split.....\n",
        "X_train, X_test, y_train, y_test = train_test_split(X, y, test_size=0.30, random_state=101)\n",
        " \n",
        "\n"
      ],
      "execution_count": 7,
      "outputs": []
    },
    {
      "cell_type": "code",
      "metadata": {
        "id": "koyp2Zfaa3XI",
        "colab": {
          "base_uri": "https://localhost:8080/"
        },
        "outputId": "ec385893-40ab-4d32-e9cd-e16c4cf95872"
      },
      "source": [
        "#Preview of Train and test data....\n",
        "print(\"Train Dataset:\")\n",
        "\n",
        "print(\"Training features: \")\n",
        "print(\" \")\n",
        "print(X_train)\n",
        "print(\" \")\n",
        "\n",
        "print(\"Training labels: \")\n",
        "print(\" \")\n",
        "print(y_train)\n",
        "print(\" \")\n",
        "print(\" \")\n",
        "\n",
        "\n",
        "print(\"Test Dataset:\")\n",
        "\n",
        "print(\"Testing features: \")\n",
        "print(\" \")\n",
        "print(X_train)\n",
        "print(\" \")\n",
        "\n",
        "print(\"Testing labels: \")\n",
        "print(\" \")\n",
        "print(y_test)\n",
        "print(\" \")"
      ],
      "execution_count": 8,
      "outputs": [
        {
          "output_type": "stream",
          "text": [
            "Train Dataset:\n",
            "Training features: \n",
            " \n",
            "[[46.  1.  0. ...  1.  2.  3.]\n",
            " [59.  1.  0. ...  1.  2.  1.]\n",
            " [50.  0.  0. ...  2.  0.  2.]\n",
            " ...\n",
            " [46.  1.  1. ...  2.  0.  3.]\n",
            " [41.  1.  1. ...  1.  0.  1.]\n",
            " [48.  0.  2. ...  2.  0.  2.]]\n",
            " \n",
            "Training labels: \n",
            " \n",
            "[0 0 1 1 1 1 1 0 0 0 0 0 0 0 1 0 1 1 1 0 1 0 1 0 0 1 0 1 1 1 0 1 1 0 0 0 0\n",
            " 0 1 1 1 1 0 0 1 1 1 1 1 1 1 1 1 0 1 0 1 1 0 0 1 0 0 0 1 1 0 1 0 1 1 1 1 1\n",
            " 1 0 1 0 0 1 0 1 1 0 0 1 0 0 1 0 1 0 1 1 0 0 1 1 0 0 0 1 0 0 0 1 1 0 0 0 0\n",
            " 1 1 0 1 1 1 1 1 1 1 1 0 1 1 0 0 1 0 0 0 1 0 1 1 0 0 0 1 0 1 0 0 0 1 0 1 1\n",
            " 1 1 1 0 1 1 1 1 0 1 1 1 0 1 0 0 0 1 0 0 1 1 0 0 1 0 0 1 1 1 0 0 1 1 1 1 1\n",
            " 0 0 1 1 0 1 1 0 0 1 1 1 1 1 0 1 1 0 0 0 0 1 1 1 1 1 1]\n",
            " \n",
            " \n",
            "Test Dataset:\n",
            "Testing features: \n",
            " \n",
            "[[46.  1.  0. ...  1.  2.  3.]\n",
            " [59.  1.  0. ...  1.  2.  1.]\n",
            " [50.  0.  0. ...  2.  0.  2.]\n",
            " ...\n",
            " [46.  1.  1. ...  2.  0.  3.]\n",
            " [41.  1.  1. ...  1.  0.  1.]\n",
            " [48.  0.  2. ...  2.  0.  2.]]\n",
            " \n",
            "Testing labels: \n",
            " \n",
            "[0 1 1 1 0 1 1 0 0 1 0 1 0 1 1 1 1 1 1 0 0 0 0 0 0 1 0 1 0 1 0 1 0 0 1 1 1\n",
            " 1 1 1 0 1 1 1 0 0 0 1 1 0 0 0 0 0 0 0 0 1 0 0 1 1 0 1 1 0 1 1 1 0 1 0 1 0\n",
            " 1 0 0 0 1 1 1 1 0 0 1 1 0 1 0 1 0]\n",
            " \n"
          ],
          "name": "stdout"
        }
      ]
    },
    {
      "cell_type": "code",
      "metadata": {
        "id": "rqzvmGW4Mm_q"
      },
      "source": [
        "#Defining a model with 3 hidden layers and an output layer......\n",
        "\n",
        "model = Sequential()\n",
        "model.add(Dense(unit_layer_1,kernel_initializer='normal',kernel_regularizer=regularizers.l2(lamda),input_dim=input_dimension,activation=layer_1_activation))\n",
        "model.add(Dense(unit_layer_2,kernel_initializer='normal',kernel_regularizer=regularizers.l2(lamda),activation=layer_2_activation))\n",
        "model.add(Dense(unit_layer_3,kernel_initializer='normal',kernel_regularizer=regularizers.l2(lamda),activation=layer_3_activation))\n",
        "#model.add(Dense(50,activation='sigmoid'))\n",
        "#model.add(Dense(70,activation='relu'))\n",
        "model.add(Dense(unit_layer_output,activation=layer_4_activation))\n"
      ],
      "execution_count": 9,
      "outputs": []
    },
    {
      "cell_type": "code",
      "metadata": {
        "id": "Ex65l5AORvr6"
      },
      "source": [
        "#Compileing defined model.......\n",
        "\n",
        "model.compile(optimizer='adam',loss='mse',metrics=['accuracy'])"
      ],
      "execution_count": 10,
      "outputs": []
    },
    {
      "cell_type": "code",
      "metadata": {
        "id": "E7V-5miCRwSm"
      },
      "source": [
        "#Early stopping and model saving.....\n",
        "\n",
        "es = EarlyStopping(monitor='val_accuracy', mode='max', verbose=1, patience=100)\n",
        "mc = ModelCheckpoint('heart_disease_model4.h5', monitor='val_accuracy', mode='max', save_best_only=True)"
      ],
      "execution_count": 11,
      "outputs": []
    },
    {
      "cell_type": "code",
      "metadata": {
        "id": "pfGaaqFwRwkb",
        "colab": {
          "base_uri": "https://localhost:8080/"
        },
        "outputId": "716484b3-0a3c-40df-8b6f-f85f3b437f92"
      },
      "source": [
        "# Fit the defined model......\n",
        "\n",
        "history=model.fit(X_train,y_train,batch_size=batch_sizee,epochs=epochs_no,validation_data=(X_test,y_test),callbacks=[es,mc])\n"
      ],
      "execution_count": 12,
      "outputs": [
        {
          "output_type": "stream",
          "text": [
            "Epoch 1/500\n",
            "20/20 [==============================] - 1s 26ms/step - loss: 0.2509 - accuracy: 0.5043 - val_loss: 0.2475 - val_accuracy: 0.5165\n",
            "Epoch 2/500\n",
            "20/20 [==============================] - 0s 3ms/step - loss: 0.2458 - accuracy: 0.5515 - val_loss: 0.2447 - val_accuracy: 0.5165\n",
            "Epoch 3/500\n",
            "20/20 [==============================] - 0s 3ms/step - loss: 0.2393 - accuracy: 0.5882 - val_loss: 0.2411 - val_accuracy: 0.6484\n",
            "Epoch 4/500\n",
            "20/20 [==============================] - 0s 3ms/step - loss: 0.2422 - accuracy: 0.6390 - val_loss: 0.2356 - val_accuracy: 0.5495\n",
            "Epoch 5/500\n",
            "20/20 [==============================] - 0s 3ms/step - loss: 0.2308 - accuracy: 0.6156 - val_loss: 0.2243 - val_accuracy: 0.7363\n",
            "Epoch 6/500\n",
            "20/20 [==============================] - 0s 3ms/step - loss: 0.2239 - accuracy: 0.6358 - val_loss: 0.2107 - val_accuracy: 0.7582\n",
            "Epoch 7/500\n",
            "20/20 [==============================] - 0s 3ms/step - loss: 0.2168 - accuracy: 0.6924 - val_loss: 0.2037 - val_accuracy: 0.7143\n",
            "Epoch 8/500\n",
            "20/20 [==============================] - 0s 3ms/step - loss: 0.2065 - accuracy: 0.7118 - val_loss: 0.1944 - val_accuracy: 0.7363\n",
            "Epoch 9/500\n",
            "20/20 [==============================] - 0s 3ms/step - loss: 0.1971 - accuracy: 0.7450 - val_loss: 0.1865 - val_accuracy: 0.7143\n",
            "Epoch 10/500\n",
            "20/20 [==============================] - 0s 3ms/step - loss: 0.2111 - accuracy: 0.6868 - val_loss: 0.1943 - val_accuracy: 0.6703\n",
            "Epoch 11/500\n",
            "20/20 [==============================] - 0s 3ms/step - loss: 0.2060 - accuracy: 0.6931 - val_loss: 0.1898 - val_accuracy: 0.6813\n",
            "Epoch 12/500\n",
            "20/20 [==============================] - 0s 3ms/step - loss: 0.1923 - accuracy: 0.7761 - val_loss: 0.2078 - val_accuracy: 0.6703\n",
            "Epoch 13/500\n",
            "20/20 [==============================] - 0s 4ms/step - loss: 0.2152 - accuracy: 0.6777 - val_loss: 0.1717 - val_accuracy: 0.7692\n",
            "Epoch 14/500\n",
            "20/20 [==============================] - 0s 3ms/step - loss: 0.1978 - accuracy: 0.7080 - val_loss: 0.1800 - val_accuracy: 0.7253\n",
            "Epoch 15/500\n",
            "20/20 [==============================] - 0s 4ms/step - loss: 0.1799 - accuracy: 0.7314 - val_loss: 0.1718 - val_accuracy: 0.7473\n",
            "Epoch 16/500\n",
            "20/20 [==============================] - 0s 4ms/step - loss: 0.1781 - accuracy: 0.7316 - val_loss: 0.1650 - val_accuracy: 0.7692\n",
            "Epoch 17/500\n",
            "20/20 [==============================] - 0s 3ms/step - loss: 0.1720 - accuracy: 0.7409 - val_loss: 0.1639 - val_accuracy: 0.7802\n",
            "Epoch 18/500\n",
            "20/20 [==============================] - 0s 4ms/step - loss: 0.1724 - accuracy: 0.7387 - val_loss: 0.1578 - val_accuracy: 0.7582\n",
            "Epoch 19/500\n",
            "20/20 [==============================] - 0s 3ms/step - loss: 0.1899 - accuracy: 0.7369 - val_loss: 0.1608 - val_accuracy: 0.7582\n",
            "Epoch 20/500\n",
            "20/20 [==============================] - 0s 3ms/step - loss: 0.1776 - accuracy: 0.7735 - val_loss: 0.1962 - val_accuracy: 0.7253\n",
            "Epoch 21/500\n",
            "20/20 [==============================] - 0s 3ms/step - loss: 0.1938 - accuracy: 0.6775 - val_loss: 0.1579 - val_accuracy: 0.7692\n",
            "Epoch 22/500\n",
            "20/20 [==============================] - 0s 3ms/step - loss: 0.1711 - accuracy: 0.7573 - val_loss: 0.1527 - val_accuracy: 0.7692\n",
            "Epoch 23/500\n",
            "20/20 [==============================] - 0s 3ms/step - loss: 0.1840 - accuracy: 0.6983 - val_loss: 0.1501 - val_accuracy: 0.7912\n",
            "Epoch 24/500\n",
            "20/20 [==============================] - 0s 4ms/step - loss: 0.2086 - accuracy: 0.6230 - val_loss: 0.1528 - val_accuracy: 0.7802\n",
            "Epoch 25/500\n",
            "20/20 [==============================] - 0s 4ms/step - loss: 0.1559 - accuracy: 0.7701 - val_loss: 0.1454 - val_accuracy: 0.7912\n",
            "Epoch 26/500\n",
            "20/20 [==============================] - 0s 4ms/step - loss: 0.1674 - accuracy: 0.7398 - val_loss: 0.1494 - val_accuracy: 0.8022\n",
            "Epoch 27/500\n",
            "20/20 [==============================] - 0s 11ms/step - loss: 0.1430 - accuracy: 0.7751 - val_loss: 0.1498 - val_accuracy: 0.7692\n",
            "Epoch 28/500\n",
            "20/20 [==============================] - 0s 3ms/step - loss: 0.1769 - accuracy: 0.7292 - val_loss: 0.1492 - val_accuracy: 0.7802\n",
            "Epoch 29/500\n",
            "20/20 [==============================] - 0s 3ms/step - loss: 0.1707 - accuracy: 0.7495 - val_loss: 0.1395 - val_accuracy: 0.7912\n",
            "Epoch 30/500\n",
            "20/20 [==============================] - 0s 3ms/step - loss: 0.1767 - accuracy: 0.7034 - val_loss: 0.1445 - val_accuracy: 0.8022\n",
            "Epoch 31/500\n",
            "20/20 [==============================] - 0s 3ms/step - loss: 0.1757 - accuracy: 0.7259 - val_loss: 0.1365 - val_accuracy: 0.8242\n",
            "Epoch 32/500\n",
            "20/20 [==============================] - 0s 3ms/step - loss: 0.1400 - accuracy: 0.7695 - val_loss: 0.1364 - val_accuracy: 0.8132\n",
            "Epoch 33/500\n",
            "20/20 [==============================] - 0s 4ms/step - loss: 0.1357 - accuracy: 0.8082 - val_loss: 0.1639 - val_accuracy: 0.7363\n",
            "Epoch 34/500\n",
            "20/20 [==============================] - 0s 4ms/step - loss: 0.1862 - accuracy: 0.7290 - val_loss: 0.1930 - val_accuracy: 0.7033\n",
            "Epoch 35/500\n",
            "20/20 [==============================] - 0s 3ms/step - loss: 0.1895 - accuracy: 0.7335 - val_loss: 0.1634 - val_accuracy: 0.7253\n",
            "Epoch 36/500\n",
            "20/20 [==============================] - 0s 3ms/step - loss: 0.2023 - accuracy: 0.7239 - val_loss: 0.1322 - val_accuracy: 0.8242\n",
            "Epoch 37/500\n",
            "20/20 [==============================] - 0s 3ms/step - loss: 0.1569 - accuracy: 0.7447 - val_loss: 0.1379 - val_accuracy: 0.7912\n",
            "Epoch 38/500\n",
            "20/20 [==============================] - 0s 3ms/step - loss: 0.1564 - accuracy: 0.7517 - val_loss: 0.1281 - val_accuracy: 0.8352\n",
            "Epoch 39/500\n",
            "20/20 [==============================] - 0s 4ms/step - loss: 0.1569 - accuracy: 0.7673 - val_loss: 0.1321 - val_accuracy: 0.8242\n",
            "Epoch 40/500\n",
            "20/20 [==============================] - 0s 3ms/step - loss: 0.1457 - accuracy: 0.7485 - val_loss: 0.1253 - val_accuracy: 0.8242\n",
            "Epoch 41/500\n",
            "20/20 [==============================] - 0s 3ms/step - loss: 0.1398 - accuracy: 0.7868 - val_loss: 0.1553 - val_accuracy: 0.7692\n",
            "Epoch 42/500\n",
            "20/20 [==============================] - 0s 3ms/step - loss: 0.1782 - accuracy: 0.7490 - val_loss: 0.1315 - val_accuracy: 0.8132\n",
            "Epoch 43/500\n",
            "20/20 [==============================] - 0s 3ms/step - loss: 0.1320 - accuracy: 0.8000 - val_loss: 0.1475 - val_accuracy: 0.7802\n",
            "Epoch 44/500\n",
            "20/20 [==============================] - 0s 3ms/step - loss: 0.1763 - accuracy: 0.7245 - val_loss: 0.1407 - val_accuracy: 0.7912\n",
            "Epoch 45/500\n",
            "20/20 [==============================] - 0s 4ms/step - loss: 0.1131 - accuracy: 0.8460 - val_loss: 0.1208 - val_accuracy: 0.8352\n",
            "Epoch 46/500\n",
            "20/20 [==============================] - 0s 4ms/step - loss: 0.1389 - accuracy: 0.7991 - val_loss: 0.1193 - val_accuracy: 0.8462\n",
            "Epoch 47/500\n",
            "20/20 [==============================] - 0s 3ms/step - loss: 0.1354 - accuracy: 0.8205 - val_loss: 0.1504 - val_accuracy: 0.7473\n",
            "Epoch 48/500\n",
            "20/20 [==============================] - 0s 3ms/step - loss: 0.1861 - accuracy: 0.7150 - val_loss: 0.1181 - val_accuracy: 0.8352\n",
            "Epoch 49/500\n",
            "20/20 [==============================] - 0s 4ms/step - loss: 0.1455 - accuracy: 0.8116 - val_loss: 0.1172 - val_accuracy: 0.8571\n",
            "Epoch 50/500\n",
            "20/20 [==============================] - 0s 4ms/step - loss: 0.1328 - accuracy: 0.8250 - val_loss: 0.1185 - val_accuracy: 0.8352\n",
            "Epoch 51/500\n",
            "20/20 [==============================] - 0s 4ms/step - loss: 0.1218 - accuracy: 0.8446 - val_loss: 0.1507 - val_accuracy: 0.7473\n",
            "Epoch 52/500\n",
            "20/20 [==============================] - 0s 3ms/step - loss: 0.1668 - accuracy: 0.7250 - val_loss: 0.1152 - val_accuracy: 0.8352\n",
            "Epoch 53/500\n",
            "20/20 [==============================] - 0s 4ms/step - loss: 0.1245 - accuracy: 0.8278 - val_loss: 0.1536 - val_accuracy: 0.7473\n",
            "Epoch 54/500\n",
            "20/20 [==============================] - 0s 3ms/step - loss: 0.1501 - accuracy: 0.7883 - val_loss: 0.1394 - val_accuracy: 0.7582\n",
            "Epoch 55/500\n",
            "20/20 [==============================] - 0s 3ms/step - loss: 0.1398 - accuracy: 0.8013 - val_loss: 0.1249 - val_accuracy: 0.8352\n",
            "Epoch 56/500\n",
            "20/20 [==============================] - 0s 4ms/step - loss: 0.1256 - accuracy: 0.8219 - val_loss: 0.1240 - val_accuracy: 0.8352\n",
            "Epoch 57/500\n",
            "20/20 [==============================] - 0s 3ms/step - loss: 0.1595 - accuracy: 0.7648 - val_loss: 0.1122 - val_accuracy: 0.8681\n",
            "Epoch 58/500\n",
            "20/20 [==============================] - 0s 3ms/step - loss: 0.1425 - accuracy: 0.8212 - val_loss: 0.1139 - val_accuracy: 0.8352\n",
            "Epoch 59/500\n",
            "20/20 [==============================] - 0s 3ms/step - loss: 0.1278 - accuracy: 0.8204 - val_loss: 0.1207 - val_accuracy: 0.8022\n",
            "Epoch 60/500\n",
            "20/20 [==============================] - 0s 3ms/step - loss: 0.1168 - accuracy: 0.8481 - val_loss: 0.1297 - val_accuracy: 0.7802\n",
            "Epoch 61/500\n",
            "20/20 [==============================] - 0s 3ms/step - loss: 0.1612 - accuracy: 0.7950 - val_loss: 0.1156 - val_accuracy: 0.8462\n",
            "Epoch 62/500\n",
            "20/20 [==============================] - 0s 3ms/step - loss: 0.1378 - accuracy: 0.7770 - val_loss: 0.1206 - val_accuracy: 0.8242\n",
            "Epoch 63/500\n",
            "20/20 [==============================] - 0s 3ms/step - loss: 0.1505 - accuracy: 0.7680 - val_loss: 0.1231 - val_accuracy: 0.8022\n",
            "Epoch 64/500\n",
            "20/20 [==============================] - 0s 3ms/step - loss: 0.1095 - accuracy: 0.8591 - val_loss: 0.1152 - val_accuracy: 0.8352\n",
            "Epoch 65/500\n",
            "20/20 [==============================] - 0s 4ms/step - loss: 0.1557 - accuracy: 0.8102 - val_loss: 0.1175 - val_accuracy: 0.8352\n",
            "Epoch 66/500\n",
            "20/20 [==============================] - 0s 4ms/step - loss: 0.1596 - accuracy: 0.7686 - val_loss: 0.1088 - val_accuracy: 0.8681\n",
            "Epoch 67/500\n",
            "20/20 [==============================] - 0s 4ms/step - loss: 0.1193 - accuracy: 0.8420 - val_loss: 0.1080 - val_accuracy: 0.8681\n",
            "Epoch 68/500\n",
            "20/20 [==============================] - 0s 3ms/step - loss: 0.1171 - accuracy: 0.8463 - val_loss: 0.1159 - val_accuracy: 0.8352\n",
            "Epoch 69/500\n",
            "20/20 [==============================] - 0s 3ms/step - loss: 0.1232 - accuracy: 0.8164 - val_loss: 0.1133 - val_accuracy: 0.8352\n",
            "Epoch 70/500\n",
            "20/20 [==============================] - 0s 3ms/step - loss: 0.1498 - accuracy: 0.7989 - val_loss: 0.1149 - val_accuracy: 0.8352\n",
            "Epoch 71/500\n",
            "20/20 [==============================] - 0s 9ms/step - loss: 0.1122 - accuracy: 0.8660 - val_loss: 0.1154 - val_accuracy: 0.8352\n",
            "Epoch 72/500\n",
            "20/20 [==============================] - 0s 3ms/step - loss: 0.1366 - accuracy: 0.7853 - val_loss: 0.1141 - val_accuracy: 0.8352\n",
            "Epoch 73/500\n",
            "20/20 [==============================] - 0s 4ms/step - loss: 0.1450 - accuracy: 0.7855 - val_loss: 0.1520 - val_accuracy: 0.8022\n",
            "Epoch 74/500\n",
            "20/20 [==============================] - 0s 3ms/step - loss: 0.1237 - accuracy: 0.8519 - val_loss: 0.1177 - val_accuracy: 0.8352\n",
            "Epoch 75/500\n",
            "20/20 [==============================] - 0s 3ms/step - loss: 0.1407 - accuracy: 0.8286 - val_loss: 0.1105 - val_accuracy: 0.8352\n",
            "Epoch 76/500\n",
            "20/20 [==============================] - 0s 3ms/step - loss: 0.1249 - accuracy: 0.8186 - val_loss: 0.1114 - val_accuracy: 0.8352\n",
            "Epoch 77/500\n",
            "20/20 [==============================] - 0s 4ms/step - loss: 0.1095 - accuracy: 0.8457 - val_loss: 0.1106 - val_accuracy: 0.8462\n",
            "Epoch 78/500\n",
            "20/20 [==============================] - 0s 4ms/step - loss: 0.1081 - accuracy: 0.8869 - val_loss: 0.1124 - val_accuracy: 0.8352\n",
            "Epoch 79/500\n",
            "20/20 [==============================] - 0s 3ms/step - loss: 0.1106 - accuracy: 0.8394 - val_loss: 0.1098 - val_accuracy: 0.8462\n",
            "Epoch 80/500\n",
            "20/20 [==============================] - 0s 3ms/step - loss: 0.1191 - accuracy: 0.8222 - val_loss: 0.1449 - val_accuracy: 0.8242\n",
            "Epoch 81/500\n",
            "20/20 [==============================] - 0s 3ms/step - loss: 0.1451 - accuracy: 0.8085 - val_loss: 0.1117 - val_accuracy: 0.8352\n",
            "Epoch 82/500\n",
            "20/20 [==============================] - 0s 4ms/step - loss: 0.1180 - accuracy: 0.8472 - val_loss: 0.1114 - val_accuracy: 0.8352\n",
            "Epoch 83/500\n",
            "20/20 [==============================] - 0s 4ms/step - loss: 0.1353 - accuracy: 0.8055 - val_loss: 0.1177 - val_accuracy: 0.8242\n",
            "Epoch 84/500\n",
            "20/20 [==============================] - 0s 3ms/step - loss: 0.1251 - accuracy: 0.8293 - val_loss: 0.1280 - val_accuracy: 0.8242\n",
            "Epoch 85/500\n",
            "20/20 [==============================] - 0s 3ms/step - loss: 0.1439 - accuracy: 0.8146 - val_loss: 0.1243 - val_accuracy: 0.8242\n",
            "Epoch 86/500\n",
            "20/20 [==============================] - 0s 3ms/step - loss: 0.1706 - accuracy: 0.8069 - val_loss: 0.1106 - val_accuracy: 0.8462\n",
            "Epoch 87/500\n",
            "20/20 [==============================] - 0s 3ms/step - loss: 0.1298 - accuracy: 0.8062 - val_loss: 0.1137 - val_accuracy: 0.8352\n",
            "Epoch 88/500\n",
            "20/20 [==============================] - 0s 4ms/step - loss: 0.1017 - accuracy: 0.8713 - val_loss: 0.1077 - val_accuracy: 0.8571\n",
            "Epoch 89/500\n",
            "20/20 [==============================] - 0s 3ms/step - loss: 0.1339 - accuracy: 0.8409 - val_loss: 0.1115 - val_accuracy: 0.8352\n",
            "Epoch 90/500\n",
            "20/20 [==============================] - 0s 3ms/step - loss: 0.1212 - accuracy: 0.8537 - val_loss: 0.1330 - val_accuracy: 0.8132\n",
            "Epoch 91/500\n",
            "20/20 [==============================] - 0s 3ms/step - loss: 0.1458 - accuracy: 0.7820 - val_loss: 0.1109 - val_accuracy: 0.8352\n",
            "Epoch 92/500\n",
            "20/20 [==============================] - 0s 3ms/step - loss: 0.1053 - accuracy: 0.8492 - val_loss: 0.1568 - val_accuracy: 0.7802\n",
            "Epoch 93/500\n",
            "20/20 [==============================] - 0s 3ms/step - loss: 0.1582 - accuracy: 0.7674 - val_loss: 0.1114 - val_accuracy: 0.8352\n",
            "Epoch 94/500\n",
            "20/20 [==============================] - 0s 3ms/step - loss: 0.1359 - accuracy: 0.8123 - val_loss: 0.1089 - val_accuracy: 0.8352\n",
            "Epoch 95/500\n",
            "20/20 [==============================] - 0s 3ms/step - loss: 0.1207 - accuracy: 0.8265 - val_loss: 0.1227 - val_accuracy: 0.8352\n",
            "Epoch 96/500\n",
            "20/20 [==============================] - 0s 3ms/step - loss: 0.1432 - accuracy: 0.8324 - val_loss: 0.1081 - val_accuracy: 0.8462\n",
            "Epoch 97/500\n",
            "20/20 [==============================] - 0s 4ms/step - loss: 0.1024 - accuracy: 0.8806 - val_loss: 0.1079 - val_accuracy: 0.8462\n",
            "Epoch 98/500\n",
            "20/20 [==============================] - 0s 3ms/step - loss: 0.1412 - accuracy: 0.7891 - val_loss: 0.1084 - val_accuracy: 0.8462\n",
            "Epoch 99/500\n",
            "20/20 [==============================] - 0s 3ms/step - loss: 0.1224 - accuracy: 0.8403 - val_loss: 0.1112 - val_accuracy: 0.8352\n",
            "Epoch 100/500\n",
            "20/20 [==============================] - 0s 4ms/step - loss: 0.1289 - accuracy: 0.8116 - val_loss: 0.1136 - val_accuracy: 0.8352\n",
            "Epoch 101/500\n",
            "20/20 [==============================] - 0s 3ms/step - loss: 0.1068 - accuracy: 0.8665 - val_loss: 0.1044 - val_accuracy: 0.8571\n",
            "Epoch 102/500\n",
            "20/20 [==============================] - 0s 4ms/step - loss: 0.1268 - accuracy: 0.8334 - val_loss: 0.1196 - val_accuracy: 0.8462\n",
            "Epoch 103/500\n",
            "20/20 [==============================] - 0s 3ms/step - loss: 0.1246 - accuracy: 0.8246 - val_loss: 0.1282 - val_accuracy: 0.8242\n",
            "Epoch 104/500\n",
            "20/20 [==============================] - 0s 3ms/step - loss: 0.1463 - accuracy: 0.7959 - val_loss: 0.1070 - val_accuracy: 0.8462\n",
            "Epoch 105/500\n",
            "20/20 [==============================] - 0s 4ms/step - loss: 0.1160 - accuracy: 0.8570 - val_loss: 0.1868 - val_accuracy: 0.7143\n",
            "Epoch 106/500\n",
            "20/20 [==============================] - 0s 4ms/step - loss: 0.1907 - accuracy: 0.7023 - val_loss: 0.1068 - val_accuracy: 0.8571\n",
            "Epoch 107/500\n",
            "20/20 [==============================] - 0s 4ms/step - loss: 0.1574 - accuracy: 0.7786 - val_loss: 0.1220 - val_accuracy: 0.8352\n",
            "Epoch 108/500\n",
            "20/20 [==============================] - 0s 3ms/step - loss: 0.1077 - accuracy: 0.8627 - val_loss: 0.1106 - val_accuracy: 0.8352\n",
            "Epoch 109/500\n",
            "20/20 [==============================] - 0s 3ms/step - loss: 0.1248 - accuracy: 0.8112 - val_loss: 0.1118 - val_accuracy: 0.8352\n",
            "Epoch 110/500\n",
            "20/20 [==============================] - 0s 3ms/step - loss: 0.1136 - accuracy: 0.8520 - val_loss: 0.1072 - val_accuracy: 0.8462\n",
            "Epoch 111/500\n",
            "20/20 [==============================] - 0s 3ms/step - loss: 0.1137 - accuracy: 0.8371 - val_loss: 0.1142 - val_accuracy: 0.8462\n",
            "Epoch 112/500\n",
            "20/20 [==============================] - 0s 3ms/step - loss: 0.1145 - accuracy: 0.8439 - val_loss: 0.1035 - val_accuracy: 0.8681\n",
            "Epoch 113/500\n",
            "20/20 [==============================] - 0s 3ms/step - loss: 0.1190 - accuracy: 0.8444 - val_loss: 0.1094 - val_accuracy: 0.8352\n",
            "Epoch 114/500\n",
            "20/20 [==============================] - 0s 4ms/step - loss: 0.1294 - accuracy: 0.8328 - val_loss: 0.1133 - val_accuracy: 0.8462\n",
            "Epoch 115/500\n",
            "20/20 [==============================] - 0s 9ms/step - loss: 0.1346 - accuracy: 0.7978 - val_loss: 0.1114 - val_accuracy: 0.8462\n",
            "Epoch 116/500\n",
            "20/20 [==============================] - 0s 3ms/step - loss: 0.1382 - accuracy: 0.8353 - val_loss: 0.1100 - val_accuracy: 0.8352\n",
            "Epoch 117/500\n",
            "20/20 [==============================] - 0s 3ms/step - loss: 0.1070 - accuracy: 0.8748 - val_loss: 0.1091 - val_accuracy: 0.8352\n",
            "Epoch 118/500\n",
            "20/20 [==============================] - 0s 3ms/step - loss: 0.1232 - accuracy: 0.8259 - val_loss: 0.1133 - val_accuracy: 0.8571\n",
            "Epoch 119/500\n",
            "20/20 [==============================] - 0s 3ms/step - loss: 0.1065 - accuracy: 0.8879 - val_loss: 0.1106 - val_accuracy: 0.8352\n",
            "Epoch 120/500\n",
            "20/20 [==============================] - 0s 4ms/step - loss: 0.1178 - accuracy: 0.8429 - val_loss: 0.1206 - val_accuracy: 0.8352\n",
            "Epoch 121/500\n",
            "20/20 [==============================] - 0s 3ms/step - loss: 0.1149 - accuracy: 0.8468 - val_loss: 0.1113 - val_accuracy: 0.8352\n",
            "Epoch 122/500\n",
            "20/20 [==============================] - 0s 3ms/step - loss: 0.1122 - accuracy: 0.8576 - val_loss: 0.1215 - val_accuracy: 0.8242\n",
            "Epoch 123/500\n",
            "20/20 [==============================] - 0s 3ms/step - loss: 0.1489 - accuracy: 0.8050 - val_loss: 0.1257 - val_accuracy: 0.8242\n",
            "Epoch 124/500\n",
            "20/20 [==============================] - 0s 3ms/step - loss: 0.1303 - accuracy: 0.8087 - val_loss: 0.1093 - val_accuracy: 0.8352\n",
            "Epoch 125/500\n",
            "20/20 [==============================] - 0s 3ms/step - loss: 0.1092 - accuracy: 0.8712 - val_loss: 0.1113 - val_accuracy: 0.8352\n",
            "Epoch 126/500\n",
            "20/20 [==============================] - 0s 3ms/step - loss: 0.0955 - accuracy: 0.8594 - val_loss: 0.1063 - val_accuracy: 0.8352\n",
            "Epoch 127/500\n",
            "20/20 [==============================] - 0s 3ms/step - loss: 0.1029 - accuracy: 0.8711 - val_loss: 0.1111 - val_accuracy: 0.8462\n",
            "Epoch 128/500\n",
            "20/20 [==============================] - 0s 4ms/step - loss: 0.1140 - accuracy: 0.8626 - val_loss: 0.1141 - val_accuracy: 0.8352\n",
            "Epoch 129/500\n",
            "20/20 [==============================] - 0s 4ms/step - loss: 0.1767 - accuracy: 0.7317 - val_loss: 0.1067 - val_accuracy: 0.8462\n",
            "Epoch 130/500\n",
            "20/20 [==============================] - 0s 3ms/step - loss: 0.1237 - accuracy: 0.8246 - val_loss: 0.1496 - val_accuracy: 0.8022\n",
            "Epoch 131/500\n",
            "20/20 [==============================] - 0s 4ms/step - loss: 0.1640 - accuracy: 0.7733 - val_loss: 0.1068 - val_accuracy: 0.8462\n",
            "Epoch 132/500\n",
            "20/20 [==============================] - 0s 3ms/step - loss: 0.1193 - accuracy: 0.8436 - val_loss: 0.1144 - val_accuracy: 0.8352\n",
            "Epoch 133/500\n",
            "20/20 [==============================] - 0s 3ms/step - loss: 0.1116 - accuracy: 0.8680 - val_loss: 0.1039 - val_accuracy: 0.8462\n",
            "Epoch 134/500\n",
            "20/20 [==============================] - 0s 4ms/step - loss: 0.1286 - accuracy: 0.8438 - val_loss: 0.1076 - val_accuracy: 0.8462\n",
            "Epoch 135/500\n",
            "20/20 [==============================] - 0s 3ms/step - loss: 0.1091 - accuracy: 0.8729 - val_loss: 0.1141 - val_accuracy: 0.8462\n",
            "Epoch 136/500\n",
            "20/20 [==============================] - 0s 3ms/step - loss: 0.1127 - accuracy: 0.8431 - val_loss: 0.1145 - val_accuracy: 0.8462\n",
            "Epoch 137/500\n",
            "20/20 [==============================] - 0s 4ms/step - loss: 0.1217 - accuracy: 0.8390 - val_loss: 0.1082 - val_accuracy: 0.8462\n",
            "Epoch 138/500\n",
            "20/20 [==============================] - 0s 3ms/step - loss: 0.1222 - accuracy: 0.8334 - val_loss: 0.1112 - val_accuracy: 0.8571\n",
            "Epoch 139/500\n",
            "20/20 [==============================] - 0s 3ms/step - loss: 0.1124 - accuracy: 0.8586 - val_loss: 0.1193 - val_accuracy: 0.8462\n",
            "Epoch 140/500\n",
            "20/20 [==============================] - 0s 4ms/step - loss: 0.1220 - accuracy: 0.8421 - val_loss: 0.1060 - val_accuracy: 0.8462\n",
            "Epoch 141/500\n",
            "20/20 [==============================] - 0s 3ms/step - loss: 0.1329 - accuracy: 0.8344 - val_loss: 0.1120 - val_accuracy: 0.8462\n",
            "Epoch 142/500\n",
            "20/20 [==============================] - 0s 4ms/step - loss: 0.1423 - accuracy: 0.8178 - val_loss: 0.1029 - val_accuracy: 0.8462\n",
            "Epoch 143/500\n",
            "20/20 [==============================] - 0s 4ms/step - loss: 0.1197 - accuracy: 0.8408 - val_loss: 0.1031 - val_accuracy: 0.8462\n",
            "Epoch 144/500\n",
            "20/20 [==============================] - 0s 4ms/step - loss: 0.1053 - accuracy: 0.8721 - val_loss: 0.1086 - val_accuracy: 0.8462\n",
            "Epoch 145/500\n",
            "20/20 [==============================] - 0s 4ms/step - loss: 0.1084 - accuracy: 0.8484 - val_loss: 0.1077 - val_accuracy: 0.8352\n",
            "Epoch 146/500\n",
            "20/20 [==============================] - 0s 4ms/step - loss: 0.1112 - accuracy: 0.8705 - val_loss: 0.1119 - val_accuracy: 0.8571\n",
            "Epoch 147/500\n",
            "20/20 [==============================] - 0s 5ms/step - loss: 0.1249 - accuracy: 0.8447 - val_loss: 0.1108 - val_accuracy: 0.8352\n",
            "Epoch 148/500\n",
            "20/20 [==============================] - 0s 4ms/step - loss: 0.1247 - accuracy: 0.8263 - val_loss: 0.1298 - val_accuracy: 0.8242\n",
            "Epoch 149/500\n",
            "20/20 [==============================] - 0s 4ms/step - loss: 0.1599 - accuracy: 0.7720 - val_loss: 0.1146 - val_accuracy: 0.8462\n",
            "Epoch 150/500\n",
            "20/20 [==============================] - 0s 4ms/step - loss: 0.1338 - accuracy: 0.8092 - val_loss: 0.1121 - val_accuracy: 0.8242\n",
            "Epoch 151/500\n",
            "20/20 [==============================] - 0s 5ms/step - loss: 0.1107 - accuracy: 0.8599 - val_loss: 0.1115 - val_accuracy: 0.8462\n",
            "Epoch 152/500\n",
            "20/20 [==============================] - 0s 4ms/step - loss: 0.1368 - accuracy: 0.8279 - val_loss: 0.1116 - val_accuracy: 0.8242\n",
            "Epoch 153/500\n",
            "20/20 [==============================] - 0s 4ms/step - loss: 0.1182 - accuracy: 0.8423 - val_loss: 0.1094 - val_accuracy: 0.8462\n",
            "Epoch 154/500\n",
            "20/20 [==============================] - 0s 3ms/step - loss: 0.1256 - accuracy: 0.8233 - val_loss: 0.1167 - val_accuracy: 0.8352\n",
            "Epoch 155/500\n",
            "20/20 [==============================] - 0s 4ms/step - loss: 0.1327 - accuracy: 0.8258 - val_loss: 0.1221 - val_accuracy: 0.8462\n",
            "Epoch 156/500\n",
            "20/20 [==============================] - 0s 4ms/step - loss: 0.1135 - accuracy: 0.8707 - val_loss: 0.1160 - val_accuracy: 0.8352\n",
            "Epoch 157/500\n",
            "20/20 [==============================] - 0s 4ms/step - loss: 0.1230 - accuracy: 0.8338 - val_loss: 0.1101 - val_accuracy: 0.8242\n",
            "Epoch 00157: early stopping\n"
          ],
          "name": "stdout"
        }
      ]
    },
    {
      "cell_type": "code",
      "metadata": {
        "id": "39nzIxWjS_kQ"
      },
      "source": [
        "#Prediction process.....\n",
        "\n",
        "y_pred = model.predict(X_test)\n",
        "\n",
        "  \n"
      ],
      "execution_count": 13,
      "outputs": []
    },
    {
      "cell_type": "code",
      "metadata": {
        "id": "Bjmyfln7bmp9",
        "colab": {
          "base_uri": "https://localhost:8080/"
        },
        "outputId": "fd20d7fa-da01-43a2-93e1-24868b2bc99e"
      },
      "source": [
        "y_pred"
      ],
      "execution_count": 14,
      "outputs": [
        {
          "output_type": "execute_result",
          "data": {
            "text/plain": [
              "array([[0.01452741],\n",
              "       [0.9418341 ],\n",
              "       [0.644513  ],\n",
              "       [0.9265317 ],\n",
              "       [0.06489667],\n",
              "       [0.8738018 ],\n",
              "       [0.95145726],\n",
              "       [0.06740379],\n",
              "       [0.10988253],\n",
              "       [0.84556586],\n",
              "       [0.07711419],\n",
              "       [0.8592649 ],\n",
              "       [0.11696157],\n",
              "       [0.31390387],\n",
              "       [0.8461882 ],\n",
              "       [0.8587396 ],\n",
              "       [0.96072984],\n",
              "       [0.78583735],\n",
              "       [0.82028365],\n",
              "       [0.0579437 ],\n",
              "       [0.06378946],\n",
              "       [0.69161457],\n",
              "       [0.6924968 ],\n",
              "       [0.8610493 ],\n",
              "       [0.28720284],\n",
              "       [0.91722065],\n",
              "       [0.06289187],\n",
              "       [0.7234211 ],\n",
              "       [0.03423512],\n",
              "       [0.11129722],\n",
              "       [0.05183032],\n",
              "       [0.771447  ],\n",
              "       [0.13220617],\n",
              "       [0.60467815],\n",
              "       [0.9442983 ],\n",
              "       [0.47159067],\n",
              "       [0.88822365],\n",
              "       [0.6572031 ],\n",
              "       [0.89562744],\n",
              "       [0.91751784],\n",
              "       [0.1513722 ],\n",
              "       [0.9130986 ],\n",
              "       [0.9005877 ],\n",
              "       [0.8102745 ],\n",
              "       [0.31444922],\n",
              "       [0.5420877 ],\n",
              "       [0.22280514],\n",
              "       [0.9403755 ],\n",
              "       [0.95061797],\n",
              "       [0.4175898 ],\n",
              "       [0.06929815],\n",
              "       [0.529498  ],\n",
              "       [0.08636323],\n",
              "       [0.92800915],\n",
              "       [0.69762385],\n",
              "       [0.14921364],\n",
              "       [0.13457319],\n",
              "       [0.91561294],\n",
              "       [0.06079677],\n",
              "       [0.06404856],\n",
              "       [0.87565273],\n",
              "       [0.75464165],\n",
              "       [0.13589492],\n",
              "       [0.9352007 ],\n",
              "       [0.22581452],\n",
              "       [0.06058192],\n",
              "       [0.9719763 ],\n",
              "       [0.67855465],\n",
              "       [0.93905365],\n",
              "       [0.8031014 ],\n",
              "       [0.93743587],\n",
              "       [0.4702    ],\n",
              "       [0.90326333],\n",
              "       [0.06817132],\n",
              "       [0.9486743 ],\n",
              "       [0.02823099],\n",
              "       [0.26581407],\n",
              "       [0.06247121],\n",
              "       [0.3642888 ],\n",
              "       [0.8787577 ],\n",
              "       [0.9036112 ],\n",
              "       [0.75734687],\n",
              "       [0.09135106],\n",
              "       [0.10220686],\n",
              "       [0.4811071 ],\n",
              "       [0.5449725 ],\n",
              "       [0.12403238],\n",
              "       [0.8573506 ],\n",
              "       [0.18341374],\n",
              "       [0.44343582],\n",
              "       [0.2514881 ]], dtype=float32)"
            ]
          },
          "metadata": {
            "tags": []
          },
          "execution_count": 14
        }
      ]
    },
    {
      "cell_type": "code",
      "metadata": {
        "id": "owRT1CTeS_7w",
        "colab": {
          "base_uri": "https://localhost:8080/"
        },
        "outputId": "15ed475e-d789-4596-e0ce-68eb0786ff6f"
      },
      "source": [
        "#Applying threshold 0.5\n",
        "Predicted_output = []\n",
        "for i in range(len(y_pred)):\n",
        "  if(y_pred[i]>0.5):\n",
        "    Predicted_output.append(1)\n",
        "   # print('%.2f (expected %d)' % (1, y_test[i]))\n",
        "\n",
        "  else:\n",
        "      Predicted_output.append(0)\n",
        "     # print('%.2f (expected %d)' % (0, y_test[i]))\n",
        "\n",
        "\n",
        "\n",
        "#Actual output vs predicted output....\n",
        "\n",
        "for i in range(len(Predicted_output)):\n",
        "  if(Predicted_output[i]>0.5):\n",
        "    print('%.2f (expected %d)' % (1, y_test[i]))\n",
        "\n",
        "  else:\n",
        "        print('%.2f (expected %d)' % (0, y_test[i]))"
      ],
      "execution_count": 15,
      "outputs": [
        {
          "output_type": "stream",
          "text": [
            "0.00 (expected 0)\n",
            "1.00 (expected 1)\n",
            "1.00 (expected 1)\n",
            "1.00 (expected 1)\n",
            "0.00 (expected 0)\n",
            "1.00 (expected 1)\n",
            "1.00 (expected 1)\n",
            "0.00 (expected 0)\n",
            "0.00 (expected 0)\n",
            "1.00 (expected 1)\n",
            "0.00 (expected 0)\n",
            "1.00 (expected 1)\n",
            "0.00 (expected 0)\n",
            "0.00 (expected 1)\n",
            "1.00 (expected 1)\n",
            "1.00 (expected 1)\n",
            "1.00 (expected 1)\n",
            "1.00 (expected 1)\n",
            "1.00 (expected 1)\n",
            "0.00 (expected 0)\n",
            "0.00 (expected 0)\n",
            "1.00 (expected 0)\n",
            "1.00 (expected 0)\n",
            "1.00 (expected 0)\n",
            "0.00 (expected 0)\n",
            "1.00 (expected 1)\n",
            "0.00 (expected 0)\n",
            "1.00 (expected 1)\n",
            "0.00 (expected 0)\n",
            "0.00 (expected 1)\n",
            "0.00 (expected 0)\n",
            "1.00 (expected 1)\n",
            "0.00 (expected 0)\n",
            "1.00 (expected 0)\n",
            "1.00 (expected 1)\n",
            "0.00 (expected 1)\n",
            "1.00 (expected 1)\n",
            "1.00 (expected 1)\n",
            "1.00 (expected 1)\n",
            "1.00 (expected 1)\n",
            "0.00 (expected 0)\n",
            "1.00 (expected 1)\n",
            "1.00 (expected 1)\n",
            "1.00 (expected 1)\n",
            "0.00 (expected 0)\n",
            "1.00 (expected 0)\n",
            "0.00 (expected 0)\n",
            "1.00 (expected 1)\n",
            "1.00 (expected 1)\n",
            "0.00 (expected 0)\n",
            "0.00 (expected 0)\n",
            "1.00 (expected 0)\n",
            "0.00 (expected 0)\n",
            "1.00 (expected 0)\n",
            "1.00 (expected 0)\n",
            "0.00 (expected 0)\n",
            "0.00 (expected 0)\n",
            "1.00 (expected 1)\n",
            "0.00 (expected 0)\n",
            "0.00 (expected 0)\n",
            "1.00 (expected 1)\n",
            "1.00 (expected 1)\n",
            "0.00 (expected 0)\n",
            "1.00 (expected 1)\n",
            "0.00 (expected 1)\n",
            "0.00 (expected 0)\n",
            "1.00 (expected 1)\n",
            "1.00 (expected 1)\n",
            "1.00 (expected 1)\n",
            "1.00 (expected 0)\n",
            "1.00 (expected 1)\n",
            "0.00 (expected 0)\n",
            "1.00 (expected 1)\n",
            "0.00 (expected 0)\n",
            "1.00 (expected 1)\n",
            "0.00 (expected 0)\n",
            "0.00 (expected 0)\n",
            "0.00 (expected 0)\n",
            "0.00 (expected 1)\n",
            "1.00 (expected 1)\n",
            "1.00 (expected 1)\n",
            "1.00 (expected 1)\n",
            "0.00 (expected 0)\n",
            "0.00 (expected 0)\n",
            "0.00 (expected 1)\n",
            "1.00 (expected 1)\n",
            "0.00 (expected 0)\n",
            "1.00 (expected 1)\n",
            "0.00 (expected 0)\n",
            "0.00 (expected 1)\n",
            "0.00 (expected 0)\n"
          ],
          "name": "stdout"
        }
      ]
    },
    {
      "cell_type": "code",
      "metadata": {
        "id": "GE2xQLtkTAZy",
        "colab": {
          "base_uri": "https://localhost:8080/",
          "height": 655
        },
        "outputId": "e9de103d-d445-43cc-b30e-1f527c08b142"
      },
      "source": [
        "#Graphical presantation of model Accuracy....\n",
        "%matplotlib inline\n",
        "# Model Accuracy \n",
        "figure = plt.figure(figsize=(10, 10))\n",
        "plt.plot(history.history['accuracy'])\n",
        "plt.plot(history.history['val_accuracy'])\n",
        "plt.title('Model Accuracy')\n",
        "plt.ylabel('accuracy')\n",
        "plt.xlabel('epoch')\n",
        "plt.legend(['train', 'test'])\n",
        "plt.show()\n",
        "print(\" \")\n",
        "print(\" \")"
      ],
      "execution_count": 16,
      "outputs": [
        {
          "output_type": "display_data",
          "data": {
            "image/png": "[encoded data removed]",
            "text/plain": [
              "<Figure size 720x720 with 1 Axes>"
            ]
          },
          "metadata": {
            "tags": [],
            "needs_background": "light"
          }
        },
        {
          "output_type": "stream",
          "text": [
            " \n",
            " \n"
          ],
          "name": "stdout"
        }
      ]
    },
    {
      "cell_type": "code",
      "metadata": {
        "id": "RhEYoWrnUt4B",
        "colab": {
          "base_uri": "https://localhost:8080/",
          "height": 655
        },
        "outputId": "4bbe787b-c9a3-411d-b7dc-2c50a9104fe5"
      },
      "source": [
        "#Graphical presantation of model Loss....\n",
        "\n",
        "# Model loss\n",
        "figure = plt.figure(figsize=(10, 10))\n",
        "plt.plot(history.history['loss'])\n",
        "plt.plot(history.history['val_loss'])\n",
        "plt.title('Model Loss')\n",
        "plt.ylabel('loss')\n",
        "plt.xlabel('epoch')\n",
        "plt.legend(['train', 'test'])\n",
        "plt.show()\n",
        "print(\" \")\n",
        "print(\" \")\n"
      ],
      "execution_count": 17,
      "outputs": [
        {
          "output_type": "display_data",
          "data": {
            "image/png": "[encoded data removed]",
            "text/plain": [
              "<Figure size 720x720 with 1 Axes>"
            ]
          },
          "metadata": {
            "tags": [],
            "needs_background": "light"
          }
        },
        {
          "output_type": "stream",
          "text": [
            " \n",
            " \n"
          ],
          "name": "stdout"
        }
      ]
    },
    {
      "cell_type": "code",
      "metadata": {
        "id": "CO4DvIU8UuQx",
        "colab": {
          "base_uri": "https://localhost:8080/"
        },
        "outputId": "ad92b541-bbfd-41e6-ab23-83e1ba8a1cf3"
      },
      "source": [
        "#Some error list....\n",
        "print(\"Error list...\")\n",
        "print(\" \")\n",
        "\n",
        "print('MAE:', metrics.mean_absolute_error(y_test, y_pred))  \n",
        "print('MSE:', metrics.mean_squared_error(y_test, y_pred))  \n",
        "print('RMSE:', np.sqrt(metrics.mean_squared_error(y_test, y_pred)))\n",
        "print('VarScore:',metrics.explained_variance_score(y_test,y_pred))\n",
        "print(\" \")\n",
        "print(\" \")\n"
      ],
      "execution_count": 18,
      "outputs": [
        {
          "output_type": "stream",
          "text": [
            "Error list...\n",
            " \n",
            "MAE: 0.23348579662186758\n",
            "MSE: 0.10942708896614536\n",
            "RMSE: 0.3307976556237141\n",
            "VarScore: 0.5620973807468111\n",
            " \n",
            " \n"
          ],
          "name": "stdout"
        }
      ]
    },
    {
      "cell_type": "code",
      "metadata": {
        "id": "sEFKxxcjUukx",
        "colab": {
          "base_uri": "https://localhost:8080/"
        },
        "outputId": "4063335d-f10f-4475-904c-da06e5297ecf"
      },
      "source": [
        "#Precision,recall,f1_score,cohen_kappa_score,auc.......\n",
        "print(\"Precision,recall,f1 score,cohen kappa score,auc.....\")\n",
        "print(\" \")\n",
        "\n",
        "# precision tp / (tp + fp)\n",
        "precision = precision_score(y_test, Predicted_output)\n",
        "print('Precision: %f' % precision)\n",
        "# recall: tp / (tp + fn)\n",
        "recall = recall_score(y_test,Predicted_output)\n",
        "print('Recall: %f' % recall)\n",
        "# f1: 2 tp / (2 tp + fp + fn)\n",
        "f1 = f1_score(y_test, Predicted_output)\n",
        "print('F1 score: %f' % f1)\n",
        "\n",
        "# ROC AUC\n",
        "auc = roc_auc_score(y_test,  Predicted_output)\n",
        "print('ROC AUC: %f' % auc)\n",
        "print(\" \")\n"
      ],
      "execution_count": 19,
      "outputs": [
        {
          "output_type": "stream",
          "text": [
            "Precision,recall,f1 score,cohen kappa score,auc.....\n",
            " \n",
            "Precision: 0.816327\n",
            "Recall: 0.851064\n",
            "F1 score: 0.833333\n",
            "ROC AUC: 0.823259\n",
            " \n"
          ],
          "name": "stdout"
        }
      ]
    },
    {
      "cell_type": "code",
      "metadata": {
        "colab": {
          "base_uri": "https://localhost:8080/",
          "height": 463
        },
        "id": "PL-7QLvZsTtz",
        "outputId": "ddd9d9bd-71a2-4343-9ecc-39545fc01544"
      },
      "source": [
        "cm = confusion_matrix(y_test, Predicted_output)\r\n",
        "%matplotlib inline\r\n",
        "plt.figure(figsize=(10,7))\r\n",
        "sn.heatmap(cm, annot=True)\r\n",
        "plt.xlabel('Predicted')\r\n",
        "plt.ylabel('Truth')"
      ],
      "execution_count": 24,
      "outputs": [
        {
          "output_type": "execute_result",
          "data": {
            "text/plain": [
              "Text(69.0, 0.5, 'Truth')"
            ]
          },
          "metadata": {
            "tags": []
          },
          "execution_count": 24
        },
        {
          "output_type": "display_data",
          "data": {
            "image/png": "[encoded data removed]",
            "text/plain": [
              "<Figure size 720x504 with 2 Axes>"
            ]
          },
          "metadata": {
            "tags": [],
            "needs_background": "light"
          }
        }
      ]
    },
    {
      "cell_type": "code",
      "metadata": {
        "id": "S9LOkSCSVmX8"
      },
      "source": [
        "# Generate classification report using predictions for binary model\n",
        "print(\" \")\n",
        "print('Results for Binary Model')\n",
        "print((accuracy_score(y_test,  Predicted_output))*100)\n",
        "print(classification_report(y_test,  Predicted_output))\n",
        " "
      ],
      "execution_count": null,
      "outputs": []
    },
    {
      "cell_type": "code",
      "metadata": {
        "id": "9UVYZya8lZnF"
      },
      "source": [
        "new_model = tf.keras.models.load_model('heart_disease_model.h5')\n",
        "scores = new_model.evaluate(X_test, y_test, verbose=0)\n",
        "print(scores)"
      ],
      "execution_count": null,
      "outputs": []
    }
  ]
}